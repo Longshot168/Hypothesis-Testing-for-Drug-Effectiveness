{
 "cells": [
  {
   "cell_type": "markdown",
   "id": "35506229-a013-4cd4-a56f-324d3204d6fa",
   "metadata": {},
   "source": [
    "# Mini Project: Hypothesis Testing in Healthcare from DataCamp\n",
    "Setting: A pharmaceutical company GlobalXYZ has just completed a randomized controlled drug trial. To promote transparency and reproducibility of the drug's outcome, they (GlobalXYZ) have presented the dataset to your organization, a non-profit that focuses primarily on drug safety.\n",
    "\n",
    "The dataset provided contained five adverse effects (headache, abdominal pain, dyspepsia, upper respiratory infection, chronic obstructive airway disease (COAD), demographic data, vital signs, lab measures, etc.), demographic data, vital signs, etc. The ratio of drug observations to placebo observations is 2 to 1. Your organization is primarily interested in the drug's adverse reactions. It wants to know if the adverse reactions, if any, are of significant proportions. It has asked you to explore and answer some questions from the data.\n",
    "\n",
    "For this project, the dataset has been modified to reflect the presence and absence of adverse effects adverse_effects and the number of adverse effects in a single individual num_effects.\n",
    "\n",
    "The columns in the modified dataset are:\n",
    "Sex:\t                (The gender of the individual), \n",
    "Age:\t                (The age of the individual), \n",
    "Week:\t            (The week of the drug testing), \n",
    "Trx:\t                (The treatment (Drug) and control (Placebo) groups), \n",
    "Wbc:\t                (The count of white blood cells), \n",
    "Rbc:\t                (The count of red blood cells), \n",
    "Adverse_effects:\t    (The presence of at least a single adverse effect), \n",
    "Num_effects:\t        (The number of adverse effects experienced by a single individual)\n",
    "\n",
    "The original dataset can be found here.\n",
    "\n",
    "### Learning Objectives:\n",
    "\n",
    "* To determine if the proportion of adverse effects differs significantly between the Drug and Placebo groups, saving the p-value as a variable called two_sample_p_value\n",
    "* To find out if the number of adverse effects is independent of the treatment and control groups, saving as a variable called num_effects_p_value containing a p-value.\n",
    "* To examine if there is a significant difference between the ages of the Drug and Placebo groups, storing the p-value of your test in a variable called age_group_effects_p_value\n",
    "\n",
    "\n",
    "* For this analysis, I am using the drug_safety.csv dataset from Hbiostat, with acknowledgement to Vanderbilt University Department of Biostatistics."
   ]
  },
  {
   "cell_type": "code",
   "execution_count": null,
   "id": "4627d004-a2ee-441b-b689-db7dfc7259ca",
   "metadata": {},
   "outputs": [],
   "source": [
    "# Import packages\n",
    "import numpy as np\n",
    "import pandas as pd\n",
    "from statsmodels.stats.proportion import proportions_ztest\n",
    "import pingouin\n",
    "import seaborn as sns\n",
    "import matplotlib.pyplot as plt\n",
    "\n",
    "# Load the dataset\n",
    "drug_safety = pd.read_csv(\"drug_safety.csv\")\n",
    "\n",
    "# Start coding here...\n",
    "drug_safety.head()\n",
    "\n",
    "\n"
   ]
  },
  {
   "cell_type": "code",
   "execution_count": null,
   "id": "774d7b07-4b0a-48f0-be9e-665c89dfce8f",
   "metadata": {},
   "outputs": [],
   "source": [
    "adv_freq = drug_safety.groupby(\"trx\").adverse_effects.value_counts()\n",
    "success_list = adv_freq[adv_freq.index.get_level_values('adverse_effects') == \"Yes\"]\n",
    "print(success_list)\n"
   ]
  },
  {
   "cell_type": "code",
   "execution_count": null,
   "id": "3f075f82-1135-42ee-b8e5-644f89d16285",
   "metadata": {},
   "outputs": [],
   "source": [
    "normalised_drug_effectiveness = drug_safety.groupby(\"trx\").adverse_effects.value_counts(normalize = True)\n",
    "print(normalised_drug_effectiveness)"
   ]
  },
  {
   "cell_type": "code",
   "execution_count": null,
   "id": "f1d23f79-d8f1-4038-bd8e-49a5a545520d",
   "metadata": {},
   "outputs": [],
   "source": [
    "p_hat_drug = normalised_drug_effectiveness [(\"Drug\", \"Yes\")]\n",
    "p_hat_Placebo = normalised_drug_effectiveness[(\"Placebo\", \"Yes\")]\n",
    "print(p_hat_drug, p_hat_Placebo)"
   ]
  },
  {
   "cell_type": "code",
   "execution_count": null,
   "id": "6d83ab4e-fb1c-4234-90b7-c55cbf56980b",
   "metadata": {},
   "outputs": [],
   "source": [
    "total = drug_safety.groupby(\"trx\")[\"adverse_effects\"].count()\n",
    "print(total)"
   ]
  },
  {
   "cell_type": "code",
   "execution_count": null,
   "id": "9afb5e0c-4b6f-481b-b129-3c8eff2f9db5",
   "metadata": {},
   "outputs": [],
   "source": [
    "total_drug = total['Drug']\n",
    "total_placebo = total['Placebo']\n",
    "print(total_drug, total_placebo)"
   ]
  },
  {
   "cell_type": "code",
   "execution_count": null,
   "id": "92372732-eedc-4653-9701-4f10a294f05a",
   "metadata": {},
   "outputs": [],
   "source": [
    "p_hat = (total_drug * p_hat_drug + total_placebo * p_hat_Placebo) / (total_drug + total_placebo)\n",
    "\n",
    "std_error = np.sqrt(p_hat * (1 - p_hat) / total_drug + p_hat * (1 - p_hat) / total_placebo)\n",
    "\n",
    "z_score = (p_hat_drug - p_hat_Placebo) / std_error\n",
    "\n",
    "print(z_score)"
   ]
  },
  {
   "cell_type": "code",
   "execution_count": null,
   "id": "0f8447a4-8349-48bd-90bb-f9e294c4fe45",
   "metadata": {},
   "outputs": [],
   "source": [
    "n_success = np.array([1024, 512])\n",
    "n_rows = np.array([10727, 5376])\n",
    "from statsmodels.stats.proportion import proportions_ztest\n",
    "z_score, two_sample_p_value = proportions_ztest(count=n_success, nobs=n_rows,                                   alternative=\"two-sided\")\n",
    "print(z_score, p_value)"
   ]
  },
  {
   "cell_type": "markdown",
   "id": "baca82d4-68f7-46e4-bf78-0d84a8624b14",
   "metadata": {},
   "source": [
    "With a z_score of 0.0452182684494942 and a two_sample_p_value of 0.9639333330262475, this shows that there is no statistically significant difference between the Drug and Placebo groups, as the p-value is much greater than the common significance level of 0.05. "
   ]
  },
  {
   "cell_type": "code",
   "execution_count": null,
   "id": "123ddd59-6b7e-4e16-b4dc-5fa21bca95af",
   "metadata": {},
   "outputs": [],
   "source": [
    "import pingouin\n",
    "\n",
    "# Perform chi-squared test of independence\n",
    "expected, observed, stats = pingouin.chi2_independence(data=drug_safety, x='adverse_effects', y='trx', correction=False)\n",
    "\n",
    "# Print the stats DataFrame\n",
    "print(stats)\n",
    "\n",
    "# Access the p-value directly from the DataFrame\n",
    "num_effects_p_value = stats.loc[0, 'pval']\n",
    "print(num_effects_p_value)"
   ]
  },
  {
   "cell_type": "markdown",
   "id": "8174077f-e8cb-46c0-b9da-27e9a611a285",
   "metadata": {},
   "source": [
    "With num_effects_p_value = 0.9639333330262464 > 0.05 (5% significance level), this shows that the number of adverse effects is independent of the treatment and control groups — i.e., there's no statistically significant association between them."
   ]
  },
  {
   "cell_type": "code",
   "execution_count": null,
   "id": "e85687d6-f69f-4343-aa4c-b023dfd6a34a",
   "metadata": {},
   "outputs": [],
   "source": [
    "trx_age = drug_safety.loc[drug_safety[\"trx\"] == \"Drug\", \"age\"]\n",
    "placebo_age = drug_safety.loc[drug_safety[\"trx\"] == \"Placebo\", \"age\"]\n",
    "age_group_effects_p_value = pingouin.mwu(trx_age, placebo_age)[\"p-val\"]\n",
    "print(age_group_effects_p_value)"
   ]
  },
  {
   "cell_type": "markdown",
   "id": "330836f4-f4ea-4829-8628-83a7fa873a6d",
   "metadata": {},
   "source": [
    "With age_group_effects_p_value = 0.256963 > 0.05 (5% significance level), this shows that there is no significant difference between the ages of the Drug and Placebo groups. "
   ]
  }
 ],
 "metadata": {
  "kernelspec": {
   "display_name": "Python 3 (ipykernel)",
   "language": "python",
   "name": "python3"
  },
  "language_info": {
   "codemirror_mode": {
    "name": "ipython",
    "version": 3
   },
   "file_extension": ".py",
   "mimetype": "text/x-python",
   "name": "python",
   "nbconvert_exporter": "python",
   "pygments_lexer": "ipython3",
   "version": "3.11.5"
  }
 },
 "nbformat": 4,
 "nbformat_minor": 5
}
